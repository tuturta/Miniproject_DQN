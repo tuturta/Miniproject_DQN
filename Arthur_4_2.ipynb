{
 "cells": [
  {
   "cell_type": "markdown",
   "metadata": {},
   "source": [
    "### Importing the relevant packages\n",
    "If the environment is correctly setup you should be able to sucessfully import the following packages."
   ]
  },
  {
   "cell_type": "code",
   "execution_count": 1,
   "metadata": {},
   "outputs": [],
   "source": [
    "import matplotlib.pyplot as plt\n",
    "from gym import spaces\n",
    "from tqdm import tqdm\n",
    "\n",
    "\"\"\"Environment imports\"\"\"\n",
    "from epidemic_env.env       import Env, Log\n",
    "from epidemic_env.dynamics  import ModelDynamics, Observation\n",
    "from epidemic_env.visualize import Visualize\n",
    "from epidemic_env.agent     import Agent, RussoAgent\n",
    "\n",
    "\"\"\"Pytorch and numpy imports\"\"\"\n",
    "import numpy as np\n",
    "import torch\n",
    "from torch import nn\n",
    "\n",
    "%matplotlib inline"
   ]
  },
  {
   "cell_type": "markdown",
   "metadata": {},
   "source": [
    "### Loading the environment object and running it\n",
    "In the following cell we instanciate a dynamical model (of the `ModelDynamics` class) that implements the epidemic simulation. The simulation parameters are set by the config file that we load (here `switzerland.yaml`). We then demonstrate how one can query the list of cities from the dynamical model and how one can plot the map on which the simulation will happen. "
   ]
  },
  {
   "cell_type": "code",
   "execution_count": 2,
   "metadata": {},
   "outputs": [],
   "source": [
    "dyn = ModelDynamics('config/switzerland.yaml')   # load the switzerland map\n"
   ]
  },
  {
   "attachments": {},
   "cell_type": "markdown",
   "metadata": {},
   "source": [
    "# Question 4.2"
   ]
  },
  {
   "cell_type": "code",
   "execution_count": 3,
   "metadata": {},
   "outputs": [],
   "source": [
    "def action_preprocessor(a:torch.Tensor, dyn:ModelDynamics):\n",
    "    keys = ['confinement', 'isolation', 'hospital', 'vaccinate']\n",
    "    # Create a dictionnary where values of 'a' are transformed in bool and assigned to a key \n",
    "    action = dict(zip(keys, np.array(a, dtype=bool).T))\n",
    "        \n",
    "    return action\n",
    "    \n",
    "def observation_preprocessor(obs: Observation, dyn:ModelDynamics):\n",
    "    infected = np.array([np.array(obs.city[c].infected)/obs.pop[c] for c in dyn.cities])\n",
    "    dead = np.array([np.array(obs.city[c].dead)/obs.pop[c] for c in dyn.cities])\n",
    "    infected = infected**(1/4)\n",
    "    dead = dead**(1/4)\n",
    "    return torch.Tensor(np.stack((infected, dead))).unsqueeze(0)"
   ]
  },
  {
   "cell_type": "code",
   "execution_count": 4,
   "metadata": {},
   "outputs": [],
   "source": [
    "action_space        =   spaces.MultiBinary(4)\n",
    "observation_space   =   spaces.Box( low=0,\n",
    "                                    high=1,\n",
    "                                    shape=(2, dyn.n_cities, dyn.env_step_length),\n",
    "                                    dtype=np.float16)"
   ]
  },
  {
   "cell_type": "code",
   "execution_count": 5,
   "metadata": {},
   "outputs": [],
   "source": [
    "env = Env(  dyn,\n",
    "            action_space=action_space,\n",
    "            observation_space=observation_space,\n",
    "            action_preprocessor=action_preprocessor,\n",
    "            observation_preprocessor=observation_preprocessor\n",
    "            )"
   ]
  },
  {
   "cell_type": "code",
   "execution_count": 11,
   "metadata": {},
   "outputs": [],
   "source": [
    "import torch\n",
    "import torch.nn as nn\n",
    "import torch.optim as optim\n",
    "import torch.nn.functional as F\n",
    "from collections import deque\n",
    "import random\n",
    "\n",
    "class FactorizedQ(Agent):\n",
    "    def __init__(self,  env:Env, memory_size=20000 ,learning_rate = 0.005, discount_factor = 0.9):\n",
    "        \"\"\"\n",
    "        Example agent implementation. Just picks a random action at each time step.\n",
    "        \"\"\"\n",
    "        self.env = env\n",
    "        self.memory = deque(maxlen=memory_size)\n",
    "        self.model = self.create_model()\n",
    "        self.target_model = self.create_model()\n",
    "        self.update_target_model()\n",
    "        self.optimizer = optim.Adam(self.model.parameters(), lr = learning_rate)\n",
    "        self.loss_fn = nn.HuberLoss()\n",
    "        self.gamma = discount_factor\n",
    "        \n",
    "    \n",
    "    def create_model(self):\n",
    "        obs_dim = self.env.observation_space.shape[0]*self.env.observation_space.shape[1]*self.env.observation_space.shape[2]\n",
    "        action_dim = self.env.action_space.shape[0]*2\n",
    "        model = nn.Sequential(\n",
    "            nn.Linear(obs_dim, 64),\n",
    "            nn.ReLU(),\n",
    "            nn.Linear(64, 32),\n",
    "            nn.ReLU(),\n",
    "            nn.Linear(32, 16),\n",
    "            nn.ReLU(),\n",
    "            nn.Linear(16, action_dim)\n",
    "        )\n",
    "        return model\n",
    "\n",
    "    def update_target_model(self):\n",
    "        self.target_model.load_state_dict(self.model.state_dict())\n",
    "\n",
    "    def load_model(self, savepath):\n",
    "        # This is where one would define the routine for loading a pre-trained model\n",
    "        self.model.load_state_dict(torch.load(savepath))\n",
    "        \n",
    "\n",
    "    def save_model(self, savepath):\n",
    "        # This is where one would define the routine for saving the weights for a trained model\n",
    "        torch.save(self.model.state_dict(), savepath)  # Save the best model\n",
    "    \n",
    "\n",
    "    def optimize_model(self, batch_size):\n",
    "        if len(self.memory) < batch_size:\n",
    "            return\n",
    "        batch = random.sample(self.memory, batch_size)\n",
    "        states, actions, rewards, next_states, dones = zip(*batch)\n",
    "        batch_states = torch.stack(states)\n",
    "        batch_actions = np.array(actions)\n",
    "        batch_actions = torch.ByteTensor(batch_actions)\n",
    "        batch_rewards = torch.stack(rewards).squeeze()\n",
    "        batch_next_states = torch.stack(next_states).squeeze(1)\n",
    "        batch_dones = torch.ByteTensor(np.array(dones).astype(int))\n",
    "        \n",
    "        # Reshape the q values array from shape (8,1) to (4,2)\n",
    "        curr_Q = self.model(batch_states).reshape((batch_size, self.env.action_space.shape[0], 2))\n",
    "\n",
    "        #Compute the actual Q summing the qvalues corresponding to the actions taken\n",
    "        curr_Q = curr_Q[np.arange(curr_Q.shape[0])[:, None], np.arange(curr_Q.shape[1]), batch_actions.long()].sum(-1)\n",
    "\n",
    "        # Compute the best Q for this state summing over the max Qa\n",
    "        next_Q = self.target_model(batch_next_states)\n",
    "        next_Q = next_Q.reshape((batch_size, self.env.action_space.shape[0], 2)).max(-1)[0].sum(-1)\n",
    "        \n",
    "        target_Q = batch_rewards + (1 - batch_dones) * self.gamma * next_Q # gamma is the discount factor\n",
    "        loss = self.loss_fn(curr_Q, target_Q)\n",
    "\n",
    "        self.optimizer.zero_grad()\n",
    "        loss.backward()\n",
    "        self.optimizer.step()\n",
    "    \n",
    "    def reset(self,seed = None):\n",
    "        # This should be called when the environment is reset\n",
    "        torch.manual_seed(seed)\n",
    "        torch.use_deterministic_algorithms(True)\n",
    "        random.seed(seed)\n",
    "        self.env.reset(seed)\n",
    "    \n",
    "    def act(self, obs, exploration = True):\n",
    "        # this takes an observation and returns 4 actions\n",
    "        # the action space can be directly sampled from the env\n",
    "        state = obs[0,:2].flatten()\n",
    "        if (random.random() < self.epsilon) and exploration : # Exploration\n",
    "            return self.env.action_space.sample()\n",
    "        else: # Exploitation\n",
    "            state = torch.FloatTensor(state).unsqueeze(0)\n",
    "            with torch.no_grad():\n",
    "                q_values = self.model(state)\n",
    "\n",
    "                # Reshape action_values to gather actions [[a_conf=TRUE, a_conf=FALSE], ...]\n",
    "                q_values = torch.reshape(q_values, (4,2))\n",
    "            \n",
    "            # Return an array of size 4 with binary choice [conf, isol, hosp, vacc]\n",
    "            return torch.argmax(q_values, dim = -1).numpy()\n",
    "\n",
    "    def remember(self, state, action, reward, next_state, done):\n",
    "        state = state[0,:2].flatten()\n",
    "        next_state = next_state[0,:2].flatten()\n",
    "        self.memory.append((state, action, reward, next_state, done))"
   ]
  },
  {
   "cell_type": "code",
   "execution_count": 12,
   "metadata": {},
   "outputs": [
    {
     "name": "stderr",
     "output_type": "stream",
     "text": [
      "  0%|          | 1/500 [00:06<50:27,  6.07s/it]"
     ]
    },
    {
     "name": "stdout",
     "output_type": "stream",
     "text": [
      "Episode 1, Avg Eval Reward: 8.90715788602829\n"
     ]
    },
    {
     "name": "stderr",
     "output_type": "stream",
     "text": [
      " 10%|█         | 51/500 [00:24<13:51,  1.85s/it]"
     ]
    },
    {
     "name": "stdout",
     "output_type": "stream",
     "text": [
      "Episode 51, Avg Eval Reward: 8.866076231002808\n"
     ]
    },
    {
     "name": "stderr",
     "output_type": "stream",
     "text": [
      " 20%|██        | 101/500 [00:49<13:41,  2.06s/it]"
     ]
    },
    {
     "name": "stdout",
     "output_type": "stream",
     "text": [
      "Episode 101, Avg Eval Reward: 8.943386101722718\n"
     ]
    },
    {
     "name": "stderr",
     "output_type": "stream",
     "text": [
      " 30%|███       | 151/500 [01:17<11:55,  2.05s/it]"
     ]
    },
    {
     "name": "stdout",
     "output_type": "stream",
     "text": [
      "Episode 151, Avg Eval Reward: -36.82913455963135\n"
     ]
    },
    {
     "name": "stderr",
     "output_type": "stream",
     "text": [
      " 40%|████      | 201/500 [01:46<10:16,  2.06s/it]"
     ]
    },
    {
     "name": "stdout",
     "output_type": "stream",
     "text": [
      "Episode 201, Avg Eval Reward: 0.7742405891418457\n"
     ]
    },
    {
     "name": "stderr",
     "output_type": "stream",
     "text": [
      " 50%|█████     | 251/500 [02:14<08:28,  2.04s/it]"
     ]
    },
    {
     "name": "stdout",
     "output_type": "stream",
     "text": [
      "Episode 251, Avg Eval Reward: 46.60233612060547\n"
     ]
    },
    {
     "name": "stderr",
     "output_type": "stream",
     "text": [
      " 60%|██████    | 301/500 [02:42<06:47,  2.05s/it]"
     ]
    },
    {
     "name": "stdout",
     "output_type": "stream",
     "text": [
      "Episode 301, Avg Eval Reward: 42.47733888626099\n"
     ]
    },
    {
     "name": "stderr",
     "output_type": "stream",
     "text": [
      " 70%|███████   | 351/500 [03:11<05:04,  2.05s/it]"
     ]
    },
    {
     "name": "stdout",
     "output_type": "stream",
     "text": [
      "Episode 351, Avg Eval Reward: 42.98523206710816\n"
     ]
    },
    {
     "name": "stderr",
     "output_type": "stream",
     "text": [
      " 80%|████████  | 401/500 [03:39<03:22,  2.05s/it]"
     ]
    },
    {
     "name": "stdout",
     "output_type": "stream",
     "text": [
      "Episode 401, Avg Eval Reward: 48.85229625701904\n"
     ]
    },
    {
     "name": "stderr",
     "output_type": "stream",
     "text": [
      " 90%|█████████ | 451/500 [04:08<01:40,  2.04s/it]"
     ]
    },
    {
     "name": "stdout",
     "output_type": "stream",
     "text": [
      "Episode 451, Avg Eval Reward: 29.580287551879884\n"
     ]
    },
    {
     "name": "stderr",
     "output_type": "stream",
     "text": [
      "100%|██████████| 500/500 [04:31<00:00,  1.84it/s]\n"
     ]
    }
   ],
   "source": [
    "N_EPISODES = 500\n",
    "EVAL_INTERVAL = 50\n",
    "NUM_EVAL_EPISODES = 20\n",
    "TARGET_UPDATE_INTERVAL = 5  # Update target network every 5 episodes\n",
    "\n",
    "BATCH_SIZE = 2048\n",
    "BUFFER_SIZE = 20000\n",
    "LR = 1e-5   # learning rate\n",
    "GAMMA = 0.9 # discount factor\n",
    "\n",
    "epsilon_start = 0.7\n",
    "epsilon_end = 0.2\n",
    "epsilon_decay = 995.  # 0.995\n",
    "\n",
    "input_shape = 126  # 2*9*7\n",
    "action_size = 8  # binary action space\n",
    "seed = 42  # or any other seed you want to use for reproducibility\n",
    "\n",
    "agent = FactorizedQ(env, memory_size = BUFFER_SIZE, learning_rate=LR, discount_factor=GAMMA)  # Assume you've defined input_shape, action_size, seed\n",
    "agent.epsilon = epsilon_start\n",
    "\n",
    "# Seed the environement and the agent for reproductiveness\n",
    "agent.reset(seed)\n",
    "np.random.seed(seed)\n",
    "seeds = np.random.randint(0, 1e6, N_EPISODES)\n",
    "\n",
    "log = {\n",
    "    'Episode': [i + 1 for i in range(N_EPISODES)],\n",
    "    'conf_days': [],\n",
    "    'R_cumul': [],\n",
    "    'N_deaths': [],\n",
    "    'eval_trace': []\n",
    "}\n",
    "\n",
    "best_eval_reward = -np.inf\n",
    "\n",
    "\"\"\" Run several simulations \"\"\"\n",
    "for i in tqdm(range(N_EPISODES)):\n",
    "    finished = False\n",
    "    obs, info = agent.env.reset(seeds[i])\n",
    "    N_confin = 0\n",
    "    R_cumul = 0\n",
    "    \n",
    "    if i % TARGET_UPDATE_INTERVAL == 0:\n",
    "        agent.update_target_model()\n",
    "\n",
    "    while not finished:\n",
    "        action = agent.act(obs)\n",
    "        next_obs, R, finished, info = agent.env.step(action)\n",
    "\n",
    "        R_cumul += R\n",
    "        N_confin += info.action['confinement'] * 7\n",
    "\n",
    "        # Store the transition in memory\n",
    "        agent.remember(obs, action, R, next_obs, finished)\n",
    "\n",
    "        # Train the model\n",
    "        agent.optimize_model(BATCH_SIZE)  \n",
    "\n",
    "        obs = next_obs\n",
    "\n",
    "        if finished:\n",
    "            break\n",
    "            \n",
    "    # Decay epsilon\n",
    "    agent.epsilon = max(epsilon_end, epsilon_start * (N_EPISODES-i)/N_EPISODES)\n",
    "\n",
    "    log['conf_days'].append(N_confin)\n",
    "    log['R_cumul'].append(R_cumul.numpy()[0])\n",
    "    log['N_deaths'].append(info.total.dead)\n",
    "\n",
    "    # Evaluation and logging\n",
    "    if i % EVAL_INTERVAL == 0 or (i == N_EPISODES - 1 and N_EPISODES % EVAL_INTERVAL != 0):\n",
    "        eval_rewards = []\n",
    "        \n",
    "        for idx in range(NUM_EVAL_EPISODES):\n",
    "            obs, info = agent.env.reset(seeds[idx]*(i+1) + 1) # Need to hardcode the seed, otherwise it doesnt work I don't know why\n",
    "            episode_reward = 0\n",
    "            done = False\n",
    "            while not done:                \n",
    "                action = agent.act(obs, exploration=False) # No exploration\n",
    "                obs, reward, done, _ = agent.env.step(action)\n",
    "                episode_reward += reward\n",
    "            eval_rewards.append(episode_reward)\n",
    "\n",
    "        eval_rewards = [reward.item() for reward in eval_rewards]\n",
    "        avg_eval_reward = np.mean(eval_rewards)\n",
    "        log['eval_trace'].append(avg_eval_reward)\n",
    "        print(f\"Episode {i + 1}, Avg Eval Reward: {avg_eval_reward}\")\n",
    "\n",
    "        # Save the best model\n",
    "        if avg_eval_reward > best_eval_reward:\n",
    "            best_eval_reward = avg_eval_reward\n",
    "            agent.save_model('logs/best_model_4_2.pt')  # Save the best model\n"
   ]
  },
  {
   "cell_type": "code",
   "execution_count": 13,
   "metadata": {},
   "outputs": [
    {
     "data": {
      "image/png": "[encoded data removed]",
      "text/plain": [
       "<Figure size 640x480 with 1 Axes>"
      ]
     },
     "metadata": {},
     "output_type": "display_data"
    }
   ],
   "source": [
    "import matplotlib.pyplot as plt\n",
    "\n",
    "# Extract rewards from log\n",
    "training_rewards = log['R_cumul']\n",
    "eval_rewards = log['eval_trace']\n",
    "\n",
    "# Generate x values\n",
    "x_train = range(len(training_rewards))\n",
    "x_eval = range(0, len(training_rewards), EVAL_INTERVAL)\n",
    "\n",
    "# Create new figure\n",
    "plt.figure()\n",
    "\n",
    "# Plot training trace\n",
    "plt.scatter(x_train, training_rewards, label='Training Trace', alpha=0.6)\n",
    "\n",
    "# Plot evaluation trace\n",
    "plt.plot(x_eval, eval_rewards, label='Eval Trace', color='red')\n",
    "\n",
    "# Add labels and legend\n",
    "plt.xlabel('Episode')\n",
    "plt.ylabel('Reward')\n",
    "plt.legend()\n",
    "\n",
    "# Show the plot\n",
    "plt.show()\n"
   ]
  },
  {
   "cell_type": "code",
   "execution_count": 14,
   "metadata": {},
   "outputs": [
    {
     "data": {
      "image/png": "[encoded data removed]",
      "text/plain": [
       "<Figure size 1800x800 with 3 Axes>"
      ]
     },
     "metadata": {},
     "output_type": "display_data"
    },
    {
     "name": "stdout",
     "output_type": "stream",
     "text": [
      "Average death number: 37948.098\n",
      "Average number of confined days: 62.776\n",
      "Average number of isolation days: 62.776\n",
      "Average cumulative reward: -62.12725067138672\n",
      "Maximum cumulative rewards: 62.777305603027344, corresponding to 154 days of confinement and resulting in 5607 deaths.\n"
     ]
    }
   ],
   "source": [
    "deaths = np.array(log['N_deaths'])\n",
    "rewards = np.array(log['R_cumul'])\n",
    "conf_days = np.array(log['conf_days'])\n",
    "\n",
    "\n",
    "\"\"\" Plot example \"\"\"\n",
    "fig, ax = plt.subplots(3,1,figsize=(18,8))\n",
    "def hist_avg(ax, data,title):\n",
    "    ymax = 50\n",
    "    if title == 'deaths':\n",
    "        x_range = (10000,140000)\n",
    "    elif title == 'cumulative rewards': \n",
    "        x_range = (-300,100)\n",
    "    elif 'days' in title:\n",
    "        x_range = (25,150)\n",
    "    else:\n",
    "        raise ValueError(f'{title} is not a valid title') \n",
    "    ax.set_title(title)\n",
    "    ax.set_ylim(0,ymax)\n",
    "    ax.vlines([np.mean(data)],0,ymax,color='red')\n",
    "    ax.hist(data,bins=60,range=x_range)\n",
    "hist_avg(ax[0], deaths,'deaths')\n",
    "hist_avg(ax[1], rewards,'cumulative rewards')\n",
    "hist_avg(ax[2], conf_days,'confined days')\n",
    "fig.tight_layout()\n",
    "plt.show()\n",
    "\n",
    "\"\"\" Print example \"\"\"\n",
    "print(f'Average death number: {np.mean(deaths)}')\n",
    "print(f'Average number of confined days: {np.mean(conf_days)}')\n",
    "print(f'Average number of isolation days: {np.mean(conf_days)}')\n",
    "print(f'Average cumulative reward: {np.mean(rewards)}')\n",
    "print(f'Maximum cumulative rewards: {np.amax(rewards)}, corresponding to {conf_days[np.argmax(reward)]} days of confinement and resulting in {deaths[np.argmax(reward)]} deaths.')"
   ]
  },
  {
   "cell_type": "code",
   "execution_count": null,
   "metadata": {},
   "outputs": [],
   "source": []
  },
  {
   "attachments": {},
   "cell_type": "markdown",
   "metadata": {},
   "source": [
    "# TESTS"
   ]
  },
  {
   "cell_type": "code",
   "execution_count": null,
   "metadata": {},
   "outputs": [],
   "source": [
    "action_space        =   spaces.MultiBinary(4)\n",
    "observation_space   =   spaces.Box( low=0,\n",
    "                                    high=1,\n",
    "                                    shape=(2, dyn.n_cities, dyn.env_step_length),\n",
    "                                    dtype=np.float16)"
   ]
  },
  {
   "cell_type": "code",
   "execution_count": null,
   "metadata": {},
   "outputs": [],
   "source": [
    "a  = torch.Tensor(np.random.randint(0, 10, size=8).reshape((4,2)))\n",
    "print(torch.argmax(a, dim = 1).tolist())\n",
    "print(a)"
   ]
  },
  {
   "cell_type": "code",
   "execution_count": null,
   "metadata": {},
   "outputs": [
    {
     "data": {
      "text/plain": [
       "49"
      ]
     },
     "execution_count": 14,
     "metadata": {},
     "output_type": "execute_result"
    }
   ],
   "source": [
    "\n"
   ]
  },
  {
   "cell_type": "code",
   "execution_count": null,
   "metadata": {},
   "outputs": [],
   "source": [
    "actions = {\n",
    "        'confinement': False, \n",
    "        'isolation': False, \n",
    "        'hospital': False, \n",
    "        'vaccinate': False,\n",
    "    }\n",
    "\n",
    "action_taken = [0,0,1,1]\n",
    "\n",
    "action_taken = np.array(action_taken, dtype = bool)\n",
    "for v in actions.values():\n",
    "    v"
   ]
  },
  {
   "cell_type": "code",
   "execution_count": null,
   "metadata": {},
   "outputs": [],
   "source": [
    "\n",
    "action"
   ]
  },
  {
   "cell_type": "code",
   "execution_count": 8,
   "metadata": {},
   "outputs": [],
   "source": [
    "batch = random.sample(agent.memory, 64)\n",
    "states, actions, rewards, next_states, dones = zip(*batch)\n"
   ]
  },
  {
   "cell_type": "code",
   "execution_count": null,
   "metadata": {},
   "outputs": [
    {
     "name": "stdout",
     "output_type": "stream",
     "text": [
      "torch.Size([64, 126]) torch.Size([64, 4]) torch.Size([64, 1, 1]) torch.Size([64, 126])\n",
      "tensor([[[-5.2395e+00]],\n",
      "\n",
      "        [[-1.8595e+01]],\n",
      "\n",
      "        [[-1.1132e+01]],\n",
      "\n",
      "        [[-1.0400e-01]],\n",
      "\n",
      "        [[-6.0800e+00]],\n",
      "\n",
      "        [[-1.4325e+01]],\n",
      "\n",
      "        [[ 9.8613e-01]],\n",
      "\n",
      "        [[ 6.9200e+00]],\n",
      "\n",
      "        [[-1.8080e+01]],\n",
      "\n",
      "        [[-5.1043e+00]],\n",
      "\n",
      "        [[-5.0939e+00]],\n",
      "\n",
      "        [[ 8.3333e-01]],\n",
      "\n",
      "        [[ 0.0000e+00]],\n",
      "\n",
      "        [[-1.9622e+01]],\n",
      "\n",
      "        [[-6.0000e+00]],\n",
      "\n",
      "        [[ 7.0000e+00]],\n",
      "\n",
      "        [[-1.3867e-02]],\n",
      "\n",
      "        [[-5.1283e+00]],\n",
      "\n",
      "        [[ 9.8960e-01]],\n",
      "\n",
      "        [[-8.0000e-02]],\n",
      "\n",
      "        [[ 9.9307e-01]],\n",
      "\n",
      "        [[-8.0000e-02]],\n",
      "\n",
      "        [[ 9.9653e-01]],\n",
      "\n",
      "        [[ 5.8232e+00]],\n",
      "\n",
      "        [[-6.0800e+00]],\n",
      "\n",
      "        [[ 9.2000e-01]],\n",
      "\n",
      "        [[ 6.1492e-01]],\n",
      "\n",
      "        [[-8.0000e-02]],\n",
      "\n",
      "        [[-1.1493e+01]],\n",
      "\n",
      "        [[ 9.2000e-01]],\n",
      "\n",
      "        [[-6.0835e+00]],\n",
      "\n",
      "        [[ 8.9573e-01]],\n",
      "\n",
      "        [[ 2.3475e+00]],\n",
      "\n",
      "        [[-5.9014e+00]],\n",
      "\n",
      "        [[-5.1352e+00]],\n",
      "\n",
      "        [[ 6.9341e+00]],\n",
      "\n",
      "        [[ 5.4431e+00]],\n",
      "\n",
      "        [[-4.2321e-01]],\n",
      "\n",
      "        [[ 5.9165e+00]],\n",
      "\n",
      "        [[-1.2003e+01]],\n",
      "\n",
      "        [[ 5.9411e+00]],\n",
      "\n",
      "        [[ 8.1946e-01]],\n",
      "\n",
      "        [[ 1.0000e+00]],\n",
      "\n",
      "        [[ 6.0000e+00]],\n",
      "\n",
      "        [[-5.0800e+00]],\n",
      "\n",
      "        [[-2.5338e+01]],\n",
      "\n",
      "        [[-5.7318e+00]],\n",
      "\n",
      "        [[ 9.1653e-01]],\n",
      "\n",
      "        [[-1.1156e+01]],\n",
      "\n",
      "        [[ 4.2181e+00]],\n",
      "\n",
      "        [[-8.3467e-02]],\n",
      "\n",
      "        [[ 9.0267e-01]],\n",
      "\n",
      "        [[-5.0104e+00]],\n",
      "\n",
      "        [[ 5.9445e+00]],\n",
      "\n",
      "        [[ 7.9519e-01]],\n",
      "\n",
      "        [[ 7.0000e+00]],\n",
      "\n",
      "        [[ 0.0000e+00]],\n",
      "\n",
      "        [[ 5.9096e+00]],\n",
      "\n",
      "        [[ 9.2000e-01]],\n",
      "\n",
      "        [[ 7.2959e-01]],\n",
      "\n",
      "        [[-5.4336e+00]],\n",
      "\n",
      "        [[ 1.0000e+00]],\n",
      "\n",
      "        [[ 6.6741e+00]],\n",
      "\n",
      "        [[-5.0000e+00]]])\n"
     ]
    }
   ],
   "source": [
    "batch_states = torch.stack(states)\n",
    "batch_actions = np.array(actions)\n",
    "batch_actions = torch.ByteTensor(actions)\n",
    "batch_rewards = torch.stack(rewards)\n",
    "batch_next_states = torch.stack(next_states).squeeze(1)\n",
    "batch_dones = torch.ByteTensor(np.array(dones).astype(int))\n",
    "\n",
    "\n",
    "print(batch_states.shape,batch_actions.shape,batch_rewards.shape,batch_next_states.shape)\n",
    "print(batch_rewards)"
   ]
  },
  {
   "cell_type": "code",
   "execution_count": null,
   "metadata": {},
   "outputs": [
    {
     "data": {
      "text/plain": [
       "torch.Size([64])"
      ]
     },
     "execution_count": 12,
     "metadata": {},
     "output_type": "execute_result"
    }
   ],
   "source": [
    "batch_rewards.squeeze().shape"
   ]
  },
  {
   "cell_type": "code",
   "execution_count": null,
   "metadata": {},
   "outputs": [
    {
     "ename": "IndexError",
     "evalue": "too many indices for tensor of dimension 3",
     "output_type": "error",
     "traceback": [
      "\u001b[0;31m---------------------------------------------------------------------------\u001b[0m",
      "\u001b[0;31mIndexError\u001b[0m                                Traceback (most recent call last)",
      "Cell \u001b[0;32mIn[13], line 3\u001b[0m\n\u001b[1;32m      1\u001b[0m curr_Q \u001b[39m=\u001b[39m agent\u001b[39m.\u001b[39mmodel(batch_states)\u001b[39m.\u001b[39mreshape((\u001b[39m64\u001b[39m, agent\u001b[39m.\u001b[39menv\u001b[39m.\u001b[39maction_space\u001b[39m.\u001b[39mshape[\u001b[39m0\u001b[39m], \u001b[39m2\u001b[39m))\n\u001b[1;32m      2\u001b[0m \u001b[39m#Compute the actual Q summing the qvalues corresponding to the actions taken\u001b[39;00m\n\u001b[0;32m----> 3\u001b[0m curr_Q \u001b[39m=\u001b[39m curr_Q[np\u001b[39m.\u001b[39;49marange(curr_Q\u001b[39m.\u001b[39;49mshape[\u001b[39m0\u001b[39;49m])[:, \u001b[39mNone\u001b[39;49;00m], np\u001b[39m.\u001b[39;49marange(curr_Q\u001b[39m.\u001b[39;49mshape[\u001b[39m1\u001b[39;49m]), batch_actions]\u001b[39m.\u001b[39msum(\u001b[39m-\u001b[39m\u001b[39m1\u001b[39m)\n\u001b[1;32m      4\u001b[0m \u001b[39m# Compute the best Q for this state\u001b[39;00m\n\u001b[1;32m      5\u001b[0m next_Q \u001b[39m=\u001b[39m agent\u001b[39m.\u001b[39mtarget_model(batch_next_states)\n",
      "\u001b[0;31mIndexError\u001b[0m: too many indices for tensor of dimension 3"
     ]
    }
   ],
   "source": [
    "curr_Q = agent.model(batch_states).reshape((64, agent.env.action_space.shape[0], 2))\n",
    "#Compute the actual Q summing the qvalues corresponding to the actions taken\n",
    "curr_Q = curr_Q[np.arange(curr_Q.shape[0])[:, None], np.arange(curr_Q.shape[1]), batch_actions].sum(-1)\n",
    "# Compute the best Q for this state\n",
    "next_Q = agent.target_model(batch_next_states)\n",
    "next_Q = next_Q.reshape((64,4,2)).max(-1)[0].sum(-1)\n",
    "batch_rewards = batch_rewards.squeeze()\n",
    "target_Q = batch_rewards + (1 - batch_dones) * 0.9 * next_Q # 0.9 is the discount factor"
   ]
  },
  {
   "cell_type": "code",
   "execution_count": null,
   "metadata": {},
   "outputs": [
    {
     "name": "stdout",
     "output_type": "stream",
     "text": [
      "tensor([[1, 1, 0, 1],\n",
      "        [1, 1, 0, 1],\n",
      "        [1, 1, 0, 1],\n",
      "        [1, 0, 1, 0],\n",
      "        [1, 1, 1, 1],\n",
      "        [1, 1, 0, 1],\n",
      "        [1, 0, 0, 0],\n",
      "        [0, 0, 0, 1],\n",
      "        [1, 1, 1, 1],\n",
      "        [1, 0, 0, 1],\n",
      "        [1, 1, 0, 1],\n",
      "        [1, 0, 0, 1],\n",
      "        [0, 1, 1, 0],\n",
      "        [1, 1, 0, 1],\n",
      "        [1, 1, 1, 0],\n",
      "        [0, 1, 0, 0],\n",
      "        [1, 1, 1, 0],\n",
      "        [1, 1, 0, 0],\n",
      "        [1, 0, 0, 0],\n",
      "        [1, 1, 1, 1],\n",
      "        [0, 1, 0, 0],\n",
      "        [1, 0, 1, 1],\n",
      "        [1, 0, 0, 0],\n",
      "        [0, 0, 1, 0],\n",
      "        [1, 0, 1, 1],\n",
      "        [1, 0, 0, 1],\n",
      "        [1, 1, 0, 1],\n",
      "        [1, 0, 1, 1],\n",
      "        [1, 1, 0, 1],\n",
      "        [1, 1, 0, 1],\n",
      "        [1, 1, 1, 1],\n",
      "        [1, 1, 0, 1],\n",
      "        [0, 0, 0, 0],\n",
      "        [1, 0, 0, 0],\n",
      "        [1, 0, 0, 0],\n",
      "        [0, 1, 0, 0],\n",
      "        [0, 0, 0, 1],\n",
      "        [0, 0, 1, 1],\n",
      "        [0, 0, 1, 1],\n",
      "        [1, 1, 1, 0],\n",
      "        [0, 0, 1, 0],\n",
      "        [0, 0, 0, 1],\n",
      "        [0, 1, 0, 0],\n",
      "        [0, 0, 1, 0],\n",
      "        [1, 0, 0, 1],\n",
      "        [0, 1, 0, 0],\n",
      "        [1, 1, 0, 1],\n",
      "        [1, 1, 0, 1],\n",
      "        [1, 1, 0, 1],\n",
      "        [0, 1, 1, 0],\n",
      "        [1, 1, 1, 1],\n",
      "        [1, 1, 0, 1],\n",
      "        [1, 1, 0, 0],\n",
      "        [0, 0, 1, 0],\n",
      "        [1, 1, 0, 1],\n",
      "        [0, 1, 0, 0],\n",
      "        [1, 1, 1, 0],\n",
      "        [0, 1, 1, 1],\n",
      "        [1, 1, 0, 1],\n",
      "        [1, 0, 0, 0],\n",
      "        [1, 1, 0, 1],\n",
      "        [1, 1, 0, 0],\n",
      "        [0, 0, 0, 0],\n",
      "        [1, 1, 0, 0]], dtype=torch.uint8)\n"
     ]
    },
    {
     "data": {
      "text/plain": [
       "tensor([[-0.0127,  0.2866, -0.0186, -0.0773],\n",
       "        [-0.0153,  0.2863, -0.0171, -0.0778],\n",
       "        [-0.0154,  0.2859, -0.0172, -0.0772],\n",
       "        [-0.0097, -0.0190, -0.1248, -0.1224],\n",
       "        [-0.0139,  0.2828, -0.1287, -0.0755],\n",
       "        [-0.0113,  0.2921, -0.0171, -0.0776],\n",
       "        [-0.0113, -0.0184, -0.0184, -0.1227],\n",
       "        [-0.0199, -0.0130, -0.0189, -0.0744],\n",
       "        [-0.0162,  0.2820, -0.1263, -0.0773],\n",
       "        [-0.0176, -0.0088, -0.0184, -0.0748],\n",
       "        [-0.0168,  0.2836, -0.0153, -0.0771],\n",
       "        [-0.0195, -0.0136, -0.0143, -0.0783],\n",
       "        [-0.0237,  0.2825, -0.1274, -0.1198],\n",
       "        [-0.0098,  0.2878, -0.0183, -0.0773],\n",
       "        [-0.0120,  0.2818, -0.1285, -0.1198],\n",
       "        [-0.0268,  0.2826, -0.0203, -0.1205],\n",
       "        [-0.0165,  0.2887, -0.1263, -0.1200],\n",
       "        [-0.0160,  0.2859, -0.0196, -0.1166],\n",
       "        [-0.0090, -0.0168, -0.0188, -0.1220],\n",
       "        [-0.0171,  0.2820, -0.1255, -0.0768],\n",
       "        [-0.0295,  0.2832, -0.0187, -0.1216],\n",
       "        [-0.0137, -0.0125, -0.1264, -0.0754],\n",
       "        [-0.0201, -0.0136, -0.0146, -0.1206],\n",
       "        [-0.0254, -0.0121, -0.1280, -0.1190],\n",
       "        [-0.0156, -0.0151, -0.1275, -0.0763],\n",
       "        [-0.0171, -0.0135, -0.0149, -0.0782],\n",
       "        [-0.0159,  0.2878, -0.0167, -0.0779],\n",
       "        [-0.0162, -0.0141, -0.1263, -0.0773],\n",
       "        [-0.0186,  0.2851, -0.0161, -0.0775],\n",
       "        [-0.0164,  0.2824, -0.0158, -0.0771],\n",
       "        [-0.0157,  0.2845, -0.1266, -0.0769],\n",
       "        [-0.0161,  0.2828, -0.0189, -0.0751],\n",
       "        [-0.0268, -0.0155, -0.0177, -0.1220],\n",
       "        [-0.0115, -0.0125, -0.0191, -0.1202],\n",
       "        [-0.0156, -0.0144, -0.0169, -0.1197],\n",
       "        [-0.0263,  0.2873, -0.0171, -0.1195],\n",
       "        [-0.0280, -0.0161, -0.0176, -0.0777],\n",
       "        [-0.0289, -0.0160, -0.1253, -0.0782],\n",
       "        [-0.0270, -0.0119, -0.1237, -0.0789],\n",
       "        [-0.0103,  0.2844, -0.1265, -0.1215],\n",
       "        [-0.0260, -0.0129, -0.1252, -0.1199],\n",
       "        [-0.0259, -0.0142, -0.0162, -0.0776],\n",
       "        [-0.0275,  0.2825, -0.0202, -0.1210],\n",
       "        [-0.0234, -0.0139, -0.1272, -0.1193],\n",
       "        [-0.0167, -0.0136, -0.0155, -0.0766],\n",
       "        [-0.0313,  0.2906, -0.0198, -0.1228],\n",
       "        [-0.0181,  0.2864, -0.0165, -0.0783],\n",
       "        [-0.0141,  0.2846, -0.0188, -0.0769],\n",
       "        [-0.0102,  0.2875, -0.0189, -0.0765],\n",
       "        [-0.0323,  0.2896, -0.1245, -0.1225],\n",
       "        [-0.0162,  0.2815, -0.1280, -0.0757],\n",
       "        [-0.0151,  0.2867, -0.0180, -0.0776],\n",
       "        [-0.0175,  0.2849, -0.0181, -0.1187],\n",
       "        [-0.0298, -0.0177, -0.1268, -0.1215],\n",
       "        [-0.0150,  0.2864, -0.0187, -0.0774],\n",
       "        [-0.0236,  0.2819, -0.0151, -0.1201],\n",
       "        [-0.0150,  0.2845, -0.1272, -0.1210],\n",
       "        [-0.0243,  0.2814, -0.1264, -0.0768],\n",
       "        [-0.0100,  0.2831, -0.0206, -0.0757],\n",
       "        [-0.0163, -0.0155, -0.0177, -0.1220],\n",
       "        [-0.0138,  0.2874, -0.0187, -0.0776],\n",
       "        [-0.0143,  0.2842, -0.0187, -0.1213],\n",
       "        [-0.0248, -0.0108, -0.0190, -0.1193],\n",
       "        [-0.0109,  0.2826, -0.0192, -0.1215]], grad_fn=<IndexBackward0>)"
      ]
     },
     "execution_count": 29,
     "metadata": {},
     "output_type": "execute_result"
    }
   ],
   "source": [
    "print(batch_actions)\n",
    "curr_Q[np.arange(curr_Q.shape[0])[:, None], np.arange(curr_Q.shape[1]), batch_actions.long()]"
   ]
  },
  {
   "cell_type": "code",
   "execution_count": null,
   "metadata": {},
   "outputs": [
    {
     "name": "stdout",
     "output_type": "stream",
     "text": [
      "torch.Size([64, 4, 2])\n"
     ]
    },
    {
     "ename": "NameError",
     "evalue": "name 'next_Q' is not defined",
     "output_type": "error",
     "traceback": [
      "\u001b[0;31m---------------------------------------------------------------------------\u001b[0m",
      "\u001b[0;31mNameError\u001b[0m                                 Traceback (most recent call last)",
      "Cell \u001b[0;32mIn[14], line 2\u001b[0m\n\u001b[1;32m      1\u001b[0m \u001b[39mprint\u001b[39m(curr_Q\u001b[39m.\u001b[39mshape)\n\u001b[0;32m----> 2\u001b[0m \u001b[39mprint\u001b[39m(next_Q\u001b[39m.\u001b[39mshape)\n\u001b[1;32m      3\u001b[0m \u001b[39mprint\u001b[39m(batch_dones\u001b[39m.\u001b[39mshape)\n\u001b[1;32m      4\u001b[0m \u001b[39mprint\u001b[39m(batch_rewards\u001b[39m.\u001b[39mshape)\n",
      "\u001b[0;31mNameError\u001b[0m: name 'next_Q' is not defined"
     ]
    }
   ],
   "source": [
    "print(curr_Q.shape)\n",
    "print(next_Q.shape)\n",
    "print(batch_dones.shape)\n",
    "print(batch_rewards.shape)\n",
    "print(target_Q.shape)\n",
    "        \n",
    "loss = agent.loss_fn(curr_Q, target_Q)\n",
    "print(loss)"
   ]
  },
  {
   "cell_type": "code",
   "execution_count": null,
   "metadata": {},
   "outputs": [],
   "source": [
    "target_Q.detach().shape"
   ]
  },
  {
   "cell_type": "code",
   "execution_count": null,
   "metadata": {},
   "outputs": [],
   "source": [
    "next_Q.reshape((64,4,2)).max(-1)[0].sum(-1)"
   ]
  },
  {
   "cell_type": "code",
   "execution_count": null,
   "metadata": {},
   "outputs": [],
   "source": [
    "q2.gather(1, batch_actions.unsqueeze(-1)).squeeze(-1)\n",
    "q2[np.arange(q2.shape[0])[:, None], np.arange(q2.shape[1]), batch_actions]"
   ]
  },
  {
   "cell_type": "code",
   "execution_count": null,
   "metadata": {},
   "outputs": [
    {
     "data": {
      "text/plain": [
       "array([0, 0, 1, 1], dtype=int8)"
      ]
     },
     "execution_count": 7,
     "metadata": {},
     "output_type": "execute_result"
    }
   ],
   "source": [
    "action_space.sample()"
   ]
  },
  {
   "cell_type": "code",
   "execution_count": null,
   "metadata": {},
   "outputs": [
    {
     "data": {
      "text/plain": [
       "Parameters(day=210, suceptible=1880721, exposed=497, infected=56, recovered=1866872, dead=8794, initial_population=3749837)"
      ]
     },
     "execution_count": 51,
     "metadata": {},
     "output_type": "execute_result"
    }
   ],
   "source": [
    "info.total"
   ]
  }
 ],
 "metadata": {
  "kernelspec": {
   "display_name": "Python 3 (ipykernel)",
   "language": "python",
   "name": "python3"
  },
  "language_info": {
   "codemirror_mode": {
    "name": "ipython",
    "version": 3
   },
   "file_extension": ".py",
   "mimetype": "text/x-python",
   "name": "python",
   "nbconvert_exporter": "python",
   "pygments_lexer": "ipython3",
   "version": "3.10.8"
  }
 },
 "nbformat": 4,
 "nbformat_minor": 2
}
